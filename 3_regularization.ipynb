{
 "cells": [
  {
   "cell_type": "markdown",
   "metadata": {
    "colab_type": "text",
    "id": "kR-4eNdK6lYS"
   },
   "source": [
    "Deep Learning\n",
    "=============\n",
    "\n",
    "Assignment 3\n",
    "------------\n",
    "\n",
    "Previously in `2_fullyconnected.ipynb`, you trained a logistic regression and a neural network model.\n",
    "\n",
    "The goal of this assignment is to explore regularization techniques."
   ]
  },
  {
   "cell_type": "code",
   "execution_count": 3,
   "metadata": {
    "cellView": "both",
    "colab": {
     "autoexec": {
      "startup": false,
      "wait_interval": 0
     }
    },
    "colab_type": "code",
    "collapsed": true,
    "id": "JLpLa8Jt7Vu4"
   },
   "outputs": [],
   "source": [
    "# These are all the modules we'll be using later. Make sure you can import them\n",
    "# before proceeding further.\n",
    "from __future__ import print_function\n",
    "import numpy as np\n",
    "import tensorflow as tf\n",
    "from six.moves import cPickle as pickle"
   ]
  },
  {
   "cell_type": "markdown",
   "metadata": {
    "colab_type": "text",
    "id": "1HrCK6e17WzV"
   },
   "source": [
    "First reload the data we generated in `1_notmnist.ipynb`."
   ]
  },
  {
   "cell_type": "code",
   "execution_count": 4,
   "metadata": {
    "cellView": "both",
    "colab": {
     "autoexec": {
      "startup": false,
      "wait_interval": 0
     },
     "output_extras": [
      {
       "item_id": 1
      }
     ]
    },
    "colab_type": "code",
    "collapsed": false,
    "executionInfo": {
     "elapsed": 11777,
     "status": "ok",
     "timestamp": 1449849322348,
     "user": {
      "color": "",
      "displayName": "",
      "isAnonymous": false,
      "isMe": true,
      "permissionId": "",
      "photoUrl": "",
      "sessionId": "0",
      "userId": ""
     },
     "user_tz": 480
    },
    "id": "y3-cj1bpmuxc",
    "outputId": "e03576f1-ebbe-4838-c388-f1777bcc9873"
   },
   "outputs": [
    {
     "name": "stdout",
     "output_type": "stream",
     "text": [
      "Training set (200000, 28, 28) (200000,)\n",
      "Validation set (10000, 28, 28) (10000,)\n",
      "Test set (10000, 28, 28) (10000,)\n"
     ]
    }
   ],
   "source": [
    "pickle_file = 'notMNIST.pickle'\n",
    "\n",
    "with open(pickle_file, 'rb') as f:\n",
    "  save = pickle.load(f)\n",
    "  train_dataset = save['train_dataset']\n",
    "  train_labels = save['train_labels']\n",
    "  valid_dataset = save['valid_dataset']\n",
    "  valid_labels = save['valid_labels']\n",
    "  test_dataset = save['test_dataset']\n",
    "  test_labels = save['test_labels']\n",
    "  del save  # hint to help gc free up memory\n",
    "  print('Training set', train_dataset.shape, train_labels.shape)\n",
    "  print('Validation set', valid_dataset.shape, valid_labels.shape)\n",
    "  print('Test set', test_dataset.shape, test_labels.shape)"
   ]
  },
  {
   "cell_type": "markdown",
   "metadata": {
    "colab_type": "text",
    "id": "L7aHrm6nGDMB"
   },
   "source": [
    "Reformat into a shape that's more adapted to the models we're going to train:\n",
    "- data as a flat matrix,\n",
    "- labels as float 1-hot encodings."
   ]
  },
  {
   "cell_type": "code",
   "execution_count": 5,
   "metadata": {
    "cellView": "both",
    "colab": {
     "autoexec": {
      "startup": false,
      "wait_interval": 0
     },
     "output_extras": [
      {
       "item_id": 1
      }
     ]
    },
    "colab_type": "code",
    "collapsed": false,
    "executionInfo": {
     "elapsed": 11728,
     "status": "ok",
     "timestamp": 1449849322356,
     "user": {
      "color": "",
      "displayName": "",
      "isAnonymous": false,
      "isMe": true,
      "permissionId": "",
      "photoUrl": "",
      "sessionId": "0",
      "userId": ""
     },
     "user_tz": 480
    },
    "id": "IRSyYiIIGIzS",
    "outputId": "3f8996ee-3574-4f44-c953-5c8a04636582"
   },
   "outputs": [
    {
     "name": "stdout",
     "output_type": "stream",
     "text": [
      "Training set (200000, 784) (200000, 10)\n",
      "Validation set (10000, 784) (10000, 10)\n",
      "Test set (10000, 784) (10000, 10)\n"
     ]
    }
   ],
   "source": [
    "image_size = 28\n",
    "num_labels = 10\n",
    "\n",
    "def reformat(dataset, labels):\n",
    "  dataset = dataset.reshape((-1, image_size * image_size)).astype(np.float32)\n",
    "  # Map 1 to [0.0, 1.0, 0.0 ...], 2 to [0.0, 0.0, 1.0 ...]\n",
    "  labels = (np.arange(num_labels) == labels[:,None]).astype(np.float32)\n",
    "  return dataset, labels\n",
    "train_dataset, train_labels = reformat(train_dataset, train_labels)\n",
    "valid_dataset, valid_labels = reformat(valid_dataset, valid_labels)\n",
    "test_dataset, test_labels = reformat(test_dataset, test_labels)\n",
    "print('Training set', train_dataset.shape, train_labels.shape)\n",
    "print('Validation set', valid_dataset.shape, valid_labels.shape)\n",
    "print('Test set', test_dataset.shape, test_labels.shape)"
   ]
  },
  {
   "cell_type": "code",
   "execution_count": 6,
   "metadata": {
    "cellView": "both",
    "colab": {
     "autoexec": {
      "startup": false,
      "wait_interval": 0
     }
    },
    "colab_type": "code",
    "collapsed": true,
    "id": "RajPLaL_ZW6w"
   },
   "outputs": [],
   "source": [
    "def accuracy(predictions, labels):\n",
    "  return (100.0 * np.sum(np.argmax(predictions, 1) == np.argmax(labels, 1))\n",
    "          / predictions.shape[0])"
   ]
  },
  {
   "cell_type": "markdown",
   "metadata": {
    "colab_type": "text",
    "id": "sgLbUAQ1CW-1"
   },
   "source": [
    "---\n",
    "Problem 1\n",
    "---------\n",
    "\n",
    "Introduce and tune L2 regularization for both logistic and neural network models. Remember that L2 amounts to adding a penalty on the norm of the weights to the loss. In TensorFlow, you can compute the L2 loss for a tensor `t` using `nn.l2_loss(t)`. The right amount of regularization should improve your validation / test accuracy.\n",
    "\n",
    "---"
   ]
  },
  {
   "cell_type": "code",
   "execution_count": 7,
   "metadata": {
    "collapsed": false
   },
   "outputs": [],
   "source": [
    "# logisitic\n",
    "\n",
    "batch_size = 128\n",
    "bet = 0.01\n",
    "\n",
    "graph = tf.Graph()\n",
    "with graph.as_default():\n",
    "\n",
    "  # Input data. For the training data, we use a placeholder that will be fed\n",
    "  # at run time with a training minibatch.\n",
    "  tf_train_dataset = tf.placeholder(tf.float32,\n",
    "                                    shape=(batch_size, image_size * image_size))\n",
    "  tf_train_labels = tf.placeholder(tf.float32, shape=(batch_size, num_labels))\n",
    "  tf_valid_dataset = tf.constant(valid_dataset)\n",
    "  tf_test_dataset = tf.constant(test_dataset)\n",
    "  \n",
    "  # Variables.\n",
    "  weights = tf.Variable(\n",
    "    tf.truncated_normal([image_size * image_size, num_labels]))\n",
    "  biases = tf.Variable(tf.zeros([num_labels]))\n",
    "  \n",
    "  # Training computation.\n",
    "  logits = tf.matmul(tf_train_dataset, weights) + biases\n",
    "\n",
    "  loss = (tf.reduce_mean(tf.nn.softmax_cross_entropy_with_logits(\n",
    "      labels=tf_train_labels, logits=logits)) + \n",
    "      bet*tf.nn.l2_loss(weights) +\n",
    "      bet*tf.nn.l2_loss(biases))\n",
    "    \n",
    "  \n",
    "  # Optimizer.\n",
    "  optimizer = tf.train.GradientDescentOptimizer(0.5).minimize(loss)\n",
    "  \n",
    "  # Predictions for the training, validation, and test data.\n",
    "  train_prediction = tf.nn.softmax(logits)\n",
    "  valid_prediction = tf.nn.softmax(\n",
    "    tf.matmul(tf_valid_dataset, weights) + biases)\n",
    "  test_prediction = tf.nn.softmax(tf.matmul(tf_test_dataset, weights) + biases)"
   ]
  },
  {
   "cell_type": "code",
   "execution_count": 8,
   "metadata": {
    "collapsed": false
   },
   "outputs": [],
   "source": [
    "# with hidden layer\n",
    "\n",
    "def mysoft(d, w1, b1, w2, b2):\n",
    "    r = tf.matmul(d, w1) + b1\n",
    "    h = tf.nn.relu(r)\n",
    "    q = tf.matmul(h, w2) + b2\n",
    "    return tf.nn.softmax(q)\n",
    "\n",
    "batch_size = 128\n",
    "num_hidden = 1024\n",
    "bet = .001\n",
    "\n",
    "graph = tf.Graph()\n",
    "with graph.as_default():\n",
    "\n",
    "  # Input data. For the training data, we use a placeholder that will be fed\n",
    "  # at run time with a training minibatch.\n",
    "  tf_train_dataset = tf.placeholder(tf.float32,\n",
    "                                    shape=(batch_size, image_size * image_size))\n",
    "  tf_train_labels = tf.placeholder(tf.float32, shape=(batch_size, num_labels))\n",
    "  tf_valid_dataset = tf.constant(valid_dataset)\n",
    "  tf_test_dataset = tf.constant(test_dataset)\n",
    "  \n",
    "  # Variables.\n",
    "  weights1 = tf.Variable(\n",
    "    tf.truncated_normal([image_size * image_size, num_hidden]))\n",
    "  biases1 = tf.Variable(tf.zeros([num_hidden]))\n",
    "    \n",
    "  rlu = tf.nn.softplus(tf.matmul(tf_train_dataset, weights1) + biases1)  \n",
    "#   rlu = tf.nn.relu(tf.matmul(tf_train_dataset, weights1) + biases1)\n",
    "    \n",
    "  weights2 = tf.Variable(\n",
    "    tf.truncated_normal([num_hidden, num_labels]))\n",
    "  biases2 = tf.Variable(tf.zeros([num_labels]))\n",
    "  \n",
    "  # Training computation.\n",
    "  logits = tf.matmul(rlu, weights2) + biases2\n",
    "  loss = tf.reduce_mean(\n",
    "    tf.nn.softmax_cross_entropy_with_logits(labels=tf_train_labels, logits=logits))\n",
    "#   loss = (tf.reduce_mean(\n",
    "#     tf.nn.softmax_cross_entropy_with_logits(labels=tf_train_labels, logits=logits))\n",
    "#     + bet*tf.nn.l2_loss(weights1)\n",
    "#     + bet*tf.nn.l2_loss(biases1)\n",
    "#     + bet*tf.nn.l2_loss(weights2)\n",
    "#     + bet*tf.nn.l2_loss(biases2))\n",
    "  \n",
    "  # Optimizer.\n",
    "  optimizer = tf.train.GradientDescentOptimizer(0.5).minimize(loss)\n",
    "  \n",
    "  # Predictions for the training, validation, and test data.\n",
    "  train_prediction = tf.nn.softmax(logits)\n",
    "    \n",
    "  valid_prediction = mysoft(tf_valid_dataset, weights1, biases1, weights2, biases2)\n",
    "# = tf.nn.softmax(\n",
    "#     tf.matmul(tf_valid_dataset, weights) + biases)\n",
    "\n",
    "  test_prediction = mysoft(tf_test_dataset, weights1, biases1, weights2, biases2)\n",
    "#     tf.nn.softmax(tf.matmul(tf_test_dataset, weights) + biases)"
   ]
  },
  {
   "cell_type": "code",
   "execution_count": 9,
   "metadata": {
    "collapsed": false
   },
   "outputs": [
    {
     "name": "stdout",
     "output_type": "stream",
     "text": [
      "Initialized\n",
      "Minibatch loss at step 0: 246.683487\n",
      "Minibatch accuracy: 9.4%\n",
      "Validation accuracy: 30.9%\n",
      "Minibatch loss at step 500: 29.732651\n",
      "Minibatch accuracy: 82.8%\n",
      "Validation accuracy: 79.7%\n",
      "Minibatch loss at step 1000: 8.855843\n",
      "Minibatch accuracy: 78.1%\n",
      "Validation accuracy: 79.9%\n",
      "Minibatch loss at step 1500: 5.384210\n",
      "Minibatch accuracy: 85.9%\n",
      "Validation accuracy: 80.5%\n",
      "Minibatch loss at step 2000: 3.079632\n",
      "Minibatch accuracy: 85.9%\n",
      "Validation accuracy: 80.7%\n",
      "Minibatch loss at step 2500: 10.529461\n",
      "Minibatch accuracy: 78.9%\n",
      "Validation accuracy: 81.4%\n",
      "Minibatch loss at step 3000: 1.888507\n",
      "Minibatch accuracy: 83.6%\n",
      "Validation accuracy: 82.2%\n",
      "Test accuracy: 89.5%\n"
     ]
    }
   ],
   "source": [
    "# run it\n",
    "# 92.8% with RELU\n",
    "# 88.9% with softplus\n",
    "\n",
    "num_steps = 3001\n",
    "\n",
    "\n",
    "with tf.Session(graph=graph) as session:\n",
    "  tf.global_variables_initializer().run()\n",
    "  print(\"Initialized\")\n",
    "  for step in range(num_steps):\n",
    "    # Pick an offset within the training data, which has been randomized.\n",
    "    # Note: we could use better randomization across epochs.\n",
    "    offset = (step * batch_size) % (train_labels.shape[0] - batch_size)\n",
    "    # Generate a minibatch.\n",
    "    batch_data = train_dataset[offset:(offset + batch_size), :]\n",
    "    batch_labels = train_labels[offset:(offset + batch_size), :]\n",
    "    # Prepare a dictionary telling the session where to feed the minibatch.\n",
    "    # The key of the dictionary is the placeholder node of the graph to be fed,\n",
    "    # and the value is the numpy array to feed to it.\n",
    "    feed_dict = {tf_train_dataset : batch_data, tf_train_labels : batch_labels}\n",
    "    _, l, predictions = session.run(\n",
    "      [optimizer, loss, train_prediction], feed_dict=feed_dict)\n",
    "    if (step % 500 == 0):\n",
    "      print(\"Minibatch loss at step %d: %f\" % (step, l))\n",
    "      print(\"Minibatch accuracy: %.1f%%\" % accuracy(predictions, batch_labels))\n",
    "      print(\"Validation accuracy: %.1f%%\" % accuracy(\n",
    "        valid_prediction.eval(), valid_labels))\n",
    "  print(\"Test accuracy: %.1f%%\" % accuracy(test_prediction.eval(), test_labels))"
   ]
  },
  {
   "cell_type": "markdown",
   "metadata": {
    "colab_type": "text",
    "id": "na8xX2yHZzNF"
   },
   "source": [
    "---\n",
    "Problem 2\n",
    "---------\n",
    "Let's demonstrate an extreme case of overfitting. Restrict your training data to just a few batches. What happens?\n",
    "\n",
    "---"
   ]
  },
  {
   "cell_type": "code",
   "execution_count": 10,
   "metadata": {
    "collapsed": false
   },
   "outputs": [
    {
     "name": "stdout",
     "output_type": "stream",
     "text": [
      "Training data  <class 'numpy.ndarray'> 500 2 (500, 784)\n",
      "Training labels  <class 'numpy.ndarray'> 500 2 (500, 10)\n"
     ]
    }
   ],
   "source": [
    "# print('Training set ', type(train_dataset), len(train_dataset), train_dataset.ndim, train_dataset.shape)\n",
    "train_data2 = train_dataset[0:500, :]\n",
    "train_labels2 = train_labels[0:500]\n",
    "print('Training data ', type(train_data2), len(train_data2), train_data2.ndim, train_data2.shape)\n",
    "print('Training labels ', type(train_labels2), len(train_labels2), train_labels2.ndim, train_labels2.shape)"
   ]
  },
  {
   "cell_type": "code",
   "execution_count": 11,
   "metadata": {
    "collapsed": false
   },
   "outputs": [
    {
     "name": "stdout",
     "output_type": "stream",
     "text": [
      "Initialized\n",
      "Minibatch loss at step 0: 295.857208\n",
      "Minibatch accuracy: 7.8%\n",
      "Validation accuracy: 28.8%\n",
      "Minibatch loss at step 500: 0.000000\n",
      "Minibatch accuracy: 100.0%\n",
      "Validation accuracy: 75.9%\n",
      "Minibatch loss at step 1000: 0.000000\n",
      "Minibatch accuracy: 100.0%\n",
      "Validation accuracy: 75.9%\n",
      "Minibatch loss at step 1500: 0.000000\n",
      "Minibatch accuracy: 100.0%\n",
      "Validation accuracy: 75.9%\n",
      "Minibatch loss at step 2000: 0.000000\n",
      "Minibatch accuracy: 100.0%\n",
      "Validation accuracy: 75.9%\n",
      "Minibatch loss at step 2500: 0.000000\n",
      "Minibatch accuracy: 100.0%\n",
      "Validation accuracy: 75.9%\n",
      "Minibatch loss at step 3000: 0.000000\n",
      "Minibatch accuracy: 100.0%\n",
      "Validation accuracy: 75.9%\n",
      "Test accuracy: 82.8%\n"
     ]
    }
   ],
   "source": [
    "# run it-2; Overfitting\n",
    "\n",
    "num_steps = 3001\n",
    "# num_steps = 300\n",
    "\n",
    "with tf.Session(graph=graph) as session:\n",
    "  tf.global_variables_initializer().run()\n",
    "  print(\"Initialized\")\n",
    "  for step in range(num_steps):\n",
    "    # Pick an offset within the training data, which has been randomized.\n",
    "    # Note: we could use better randomization across epochs.\n",
    "    offset = (step * batch_size) % (train_labels2.shape[0] - batch_size)\n",
    "    # Generate a minibatch.\n",
    "    batch_data = train_data2[offset:(offset + batch_size), :]\n",
    "    batch_labels = train_labels2[offset:(offset + batch_size), :]\n",
    "    # Prepare a dictionary telling the session where to feed the minibatch.\n",
    "    # The key of the dictionary is the placeholder node of the graph to be fed,\n",
    "    # and the value is the numpy array to feed to it.\n",
    "    feed_dict = {tf_train_dataset : batch_data, tf_train_labels : batch_labels}\n",
    "    _, l, predictions = session.run(\n",
    "      [optimizer, loss, train_prediction], feed_dict=feed_dict)\n",
    "    if (step % 500 == 0):\n",
    "      print(\"Minibatch loss at step %d: %f\" % (step, l))\n",
    "      print(\"Minibatch accuracy: %.1f%%\" % accuracy(predictions, batch_labels))\n",
    "      print(\"Validation accuracy: %.1f%%\" % accuracy(\n",
    "        valid_prediction.eval(), valid_labels))\n",
    "  print(\"Test accuracy: %.1f%%\" % accuracy(test_prediction.eval(), test_labels))"
   ]
  },
  {
   "cell_type": "markdown",
   "metadata": {
    "colab_type": "text",
    "id": "ww3SCBUdlkRc"
   },
   "source": [
    "---\n",
    "Problem 3\n",
    "---------\n",
    "Introduce Dropout on the hidden layer of the neural network. Remember: Dropout should only be introduced during training, not evaluation, otherwise your evaluation results would be stochastic as well. TensorFlow provides `nn.dropout()` for that, but you have to make sure it's only inserted during training.\n",
    "\n",
    "What happens to our extreme overfitting case?\n",
    "\n",
    "---"
   ]
  },
  {
   "cell_type": "code",
   "execution_count": 12,
   "metadata": {
    "collapsed": false
   },
   "outputs": [
    {
     "name": "stdout",
     "output_type": "stream",
     "text": [
      "weights 1:  <class 'tensorflow.python.ops.variables.Variable'> (784, 1024)\n",
      "weights 2:  <class 'tensorflow.python.ops.variables.Variable'> (1024, 10)\n"
     ]
    }
   ],
   "source": [
    "print('weights 1: ', type(weights1), weights1.shape)\n",
    "print('weights 2: ', type(weights2), weights2.shape)"
   ]
  },
  {
   "cell_type": "code",
   "execution_count": 13,
   "metadata": {
    "collapsed": false
   },
   "outputs": [],
   "source": [
    "# with hidden layer-3; Dropout\n",
    "\n",
    "batch_size = 128\n",
    "num_hidden = 1024\n",
    "bet = .001\n",
    "\n",
    "def mysoft(d, w1, b1, w2, b2):\n",
    "    r = tf.matmul(d, w1) + b1\n",
    "    h = tf.nn.relu(r)\n",
    "    h = tf.nn.dropout(h, keep_prob)\n",
    "    q = tf.matmul(h, w2) + b2\n",
    "    return tf.nn.softmax(q)\n",
    "\n",
    "def mysoft_test(d, w1, b1, w2, b2):\n",
    "    r = tf.matmul(d, w1) + b1\n",
    "    h = tf.nn.relu(r)\n",
    "    q = tf.matmul(h, w2) + b2\n",
    "    return tf.nn.softmax(q)\n",
    "\n",
    "\n",
    "graph = tf.Graph()\n",
    "with graph.as_default():\n",
    "    \n",
    "  keep_prob = tf.placeholder(tf.float32, name='keepProb')\n",
    "\n",
    "\n",
    "  # Input data. For the training data, we use a placeholder that will be fed\n",
    "  # at run time with a training minibatch.\n",
    "  tf_train_dataset = tf.placeholder(tf.float32,\n",
    "                                    shape=(batch_size, image_size * image_size))\n",
    "  tf_train_labels = tf.placeholder(tf.float32, shape=(batch_size, num_labels))\n",
    "  tf_valid_dataset = tf.constant(valid_dataset)\n",
    "  tf_test_dataset = tf.constant(test_dataset)\n",
    "  \n",
    "  # Variables.\n",
    "  weights1 = tf.Variable(\n",
    "    tf.truncated_normal([image_size * image_size, num_hidden]))\n",
    "  biases1 = tf.Variable(tf.zeros([num_hidden]))\n",
    "    \n",
    "  rlu1 = tf.nn.relu(tf.matmul(tf_train_dataset, weights1) + biases1, name='reluOne')\n",
    "  rlu = tf.nn.dropout(rlu1, keep_prob)\n",
    "    \n",
    "  weights2 = tf.Variable(\n",
    "    tf.truncated_normal([num_hidden, num_labels]))\n",
    "  biases2 = tf.Variable(tf.zeros([num_labels]))\n",
    "  \n",
    "  # Training computation.\n",
    "  logits = tf.matmul(rlu, weights2) + biases2\n",
    "#   loss = tf.reduce_mean(\n",
    "#     tf.nn.softmax_cross_entropy_with_logits(labels=tf_train_labels, logits=logits))\n",
    "  loss = (tf.reduce_mean(\n",
    "    tf.nn.softmax_cross_entropy_with_logits(labels=tf_train_labels, logits=logits))\n",
    "    + bet*tf.nn.l2_loss(weights1)\n",
    "    + bet*tf.nn.l2_loss(biases1)\n",
    "    + bet*tf.nn.l2_loss(weights2)\n",
    "    + bet*tf.nn.l2_loss(biases2))\n",
    "  \n",
    "  # Optimizer.\n",
    "  optimizer = tf.train.GradientDescentOptimizer(0.5).minimize(loss)\n",
    "  \n",
    "  # Predictions for the training, validation, and test data.\n",
    "#   train_prediction = tf.nn.softmax(logits)\n",
    "  train_prediction = tf.nn.softmax(logits)\n",
    "    \n",
    "  valid_prediction = mysoft_test(tf_valid_dataset, weights1, biases1, weights2, biases2)\n",
    "# = tf.nn.softmax(\n",
    "#     tf.matmul(tf_valid_dataset, weights) + biases)\n",
    "\n",
    "  test_prediction = mysoft_test(tf_test_dataset, weights1, biases1, weights2, biases2)\n",
    "#     tf.nn.softmax(tf.matmul(tf_test_dataset, weights) + biases)"
   ]
  },
  {
   "cell_type": "code",
   "execution_count": 17,
   "metadata": {
    "collapsed": false
   },
   "outputs": [
    {
     "name": "stdout",
     "output_type": "stream",
     "text": [
      "Initialized\n",
      "Minibatch loss at step 0: 2.943695\n",
      "Minibatch accuracy: 12.5%\n",
      "Validation accuracy: 17.2%\n",
      "Minibatch loss at step 500: 0.214371\n",
      "Minibatch accuracy: 93.8%\n",
      "Validation accuracy: 79.6%\n",
      "Minibatch loss at step 1000: 0.020662\n",
      "Minibatch accuracy: 100.0%\n",
      "Validation accuracy: 80.0%\n",
      "Minibatch loss at step 1500: 0.008368\n",
      "Minibatch accuracy: 100.0%\n",
      "Validation accuracy: 79.5%\n",
      "Minibatch loss at step 2000: 0.002872\n",
      "Minibatch accuracy: 100.0%\n",
      "Validation accuracy: 79.8%\n",
      "Minibatch loss at step 2500: 0.003655\n",
      "Minibatch accuracy: 100.0%\n",
      "Validation accuracy: 79.6%\n",
      "Minibatch loss at step 3000: 0.002664\n",
      "Minibatch accuracy: 100.0%\n",
      "Validation accuracy: 79.7%\n",
      "Test accuracy: 87.4%\n"
     ]
    }
   ],
   "source": [
    "# run it-3; Droupout\n",
    "\n",
    "train_data2 = train_dataset[0:500, :]\n",
    "train_labels2 = train_labels[0:500]\n",
    "\n",
    "num_steps = 3001\n",
    "# num_steps = 300\n",
    "\n",
    "with tf.Session(graph=graph) as session:\n",
    "  tf.global_variables_initializer().run()\n",
    "  print(\"Initialized\")\n",
    "  for step in range(num_steps):\n",
    "    # Pick an offset within the training data, which has been randomized.\n",
    "    # Note: we could use better randomization across epochs.\n",
    "    offset = (step * batch_size) % (train_labels2.shape[0] - batch_size)\n",
    "    # Generate a minibatch.\n",
    "    batch_data = train_data2[offset:(offset + batch_size), :]\n",
    "    batch_labels = train_labels2[offset:(offset + batch_size), :]\n",
    "    # Prepare a dictionary telling the session where to feed the minibatch.\n",
    "    # The key of the dictionary is the placeholder node of the graph to be fed,\n",
    "    # and the value is the numpy array to feed to it.\n",
    "    feed_dict = {tf_train_dataset : batch_data, tf_train_labels : batch_labels, keep_prob : .30}\n",
    "    _, l, predictions = session.run(\n",
    "      [optimizer, loss, train_prediction], feed_dict=feed_dict)\n",
    "    if (step % 500 == 0):\n",
    "      print(\"Minibatch loss at step %d: %f\" % (step, l))\n",
    "      print(\"Minibatch accuracy: %.1f%%\" % accuracy(predictions, batch_labels))\n",
    "      print(\"Validation accuracy: %.1f%%\" % accuracy(\n",
    "        valid_prediction.eval(), valid_labels))\n",
    "  print(\"Test accuracy: %.1f%%\" % accuracy(test_prediction.eval(), test_labels))"
   ]
  },
  {
   "cell_type": "markdown",
   "metadata": {
    "colab_type": "text",
    "id": "-b1hTz3VWZjw"
   },
   "source": [
    "---\n",
    "Problem 4\n",
    "---------\n",
    "\n",
    "Try to get the best performance you can using a multi-layer model! The best reported test accuracy using a deep network is [97.1%](http://yaroslavvb.blogspot.com/2011/09/notmnist-dataset.html?showComment=1391023266211#c8758720086795711595).\n",
    "\n",
    "One avenue you can explore is to add multiple layers.\n",
    "\n",
    "Another one is to use learning rate decay:\n",
    "\n",
    "    global_step = tf.Variable(0)  # count the number of steps taken.\n",
    "    learning_rate = tf.train.exponential_decay(0.5, global_step, ...)\n",
    "    optimizer = tf.train.GradientDescentOptimizer(learning_rate).minimize(loss, global_step=global_step)\n",
    " \n",
    " ---\n"
   ]
  },
  {
   "cell_type": "code",
   "execution_count": 15,
   "metadata": {
    "collapsed": false
   },
   "outputs": [],
   "source": [
    "# with hidden layer-4; \n",
    "from math import sqrt\n",
    "batch_size = 128\n",
    "nh1 = 1024\n",
    "nh2 = 512\n",
    "nh3 = 256\n",
    "nh4 = 128\n",
    "bet = .001\n",
    "wts = []\n",
    "drop = True\n",
    "doL2 = False\n",
    "\n",
    "def L2(w, b):\n",
    "    l2 = 0\n",
    "    for i in w:\n",
    "        l2 += b*tf.nn.l2_loss(i[0])\n",
    "    return l2\n",
    "\n",
    "# def mysoft(d, w):\n",
    "#     r = tf.matmul(d, w[0][0]) + w[0][1]\n",
    "#     del(w[0])\n",
    "#     h = tf.nn.relu(r)\n",
    "#     for i in w:\n",
    "#         h = tf.nn.relu(tf.matmul(h, i[0]) + i[1])\n",
    "#     return tf.nn.softmax(h)\n",
    "\n",
    "\n",
    "graph = tf.Graph()\n",
    "with graph.as_default():\n",
    "    \n",
    "  global_step = tf.Variable(0, trainable=False)  # count the number of steps taken.\n",
    "  learning_rate = tf.train.exponential_decay(0.2, global_step, 500, 0.9, staircase=True)\n",
    "#   learning_rate = tf.train.exponential_decay(0.3, global_step, 3500, 0.86, staircase=True)\n",
    "#   learning_rate = tf.train.exponential_decay(0.1, global_step, decay_steps=700, decay_rate=0.95)\n",
    "    \n",
    "  keep_prob = tf.placeholder(tf.float32, name='keepProb')\n",
    "\n",
    "\n",
    "  # Input data. For the training data, we use a placeholder that will be fed\n",
    "  # at run time with a training minibatch.\n",
    "  tf_train_dataset = tf.placeholder(tf.float32,\n",
    "                                    shape=(batch_size, image_size * image_size))\n",
    "  tf_train_labels = tf.placeholder(tf.float32, shape=(batch_size, num_labels))\n",
    "  tf_valid_dataset = tf.constant(valid_dataset)\n",
    "  tf_test_dataset = tf.constant(test_dataset)\n",
    "  \n",
    "  # Variables.\n",
    "  std = sqrt(2/784)\n",
    "  W1 = tf.Variable(\n",
    "    tf.truncated_normal([image_size * image_size, nh1], stddev=std))\n",
    "  b1 = tf.Variable(tf.zeros([nh1]))\n",
    "  \n",
    "    \n",
    "  rlu1 = tf.nn.relu(tf.matmul(tf_train_dataset, W1) + b1, name='reluOne')\n",
    "\n",
    "  if drop:\n",
    "        rlu1 = tf.nn.dropout(rlu1, keep_prob)\n",
    "  \n",
    "  std = sqrt(2/nh1)\n",
    "  W2 = tf.Variable(\n",
    "    tf.truncated_normal([nh1, nh2], stddev=std))\n",
    "  b2 = tf.Variable(tf.zeros([nh2]))\n",
    "\n",
    "\n",
    "  rlu2 = tf.nn.relu(tf.matmul(rlu1, W2) + b2)\n",
    "\n",
    "  if drop:\n",
    "        rlu2 = tf.nn.dropout(rlu2, keep_prob)\n",
    "  \n",
    "\n",
    "  std = sqrt(2/nh2)\n",
    "  W3 = tf.Variable(\n",
    "    tf.truncated_normal([nh2, nh3], stddev=std))\n",
    "  b3 = tf.Variable(tf.zeros([nh3]))\n",
    "  \n",
    "\n",
    "  rlu3 = tf.nn.relu(tf.matmul(rlu2, W3) + b3)\n",
    "\n",
    "  std = sqrt(2/nh3)\n",
    "  W4 = tf.Variable(\n",
    "    tf.truncated_normal([nh3, num_labels], stddev=std))\n",
    "  b4 = tf.Variable(tf.zeros([num_labels]))\n",
    "  \n",
    "  wts.append([W1, b1])\n",
    "  wts.append([W2, b2])\n",
    "  wts.append([W3, b3])\n",
    "  wts.append([W4, b4])\n",
    "  \n",
    "  \n",
    "  # Training computation.\n",
    "  logits = tf.matmul(rlu3, W4) + b4\n",
    "  loss = tf.reduce_mean(\n",
    "    tf.nn.softmax_cross_entropy_with_logits(labels=tf_train_labels, logits=logits))\n",
    "    \n",
    "  if doL2:\n",
    "    loss += L2(wts, bet)\n",
    "  \n",
    "  # Optimizer.\n",
    "#   optimizer = tf.train.GradientDescentOptimizer(0.5).minimize(loss)\n",
    "  optimizer = tf.train.GradientDescentOptimizer(learning_rate).minimize(loss, global_step=global_step)\n",
    "  \n",
    "  # Predictions for the training, validation, and test data.\n",
    "#   train_prediction = tf.nn.softmax(logits)\n",
    "  train_prediction = tf.nn.softmax(logits)\n",
    "    \n",
    "\n",
    "#   wts = np.array(wts)\n",
    "\n",
    "#   print(W1[0][0])\n",
    "    \n",
    "    \n",
    "#   valid_prediction = mysoft(tf_valid_dataset, wts)\n",
    "  vp = tf.nn.relu(tf.matmul(tf_valid_dataset, W1) + b1)\n",
    "  vp = tf.nn.relu(tf.matmul(vp, W2) + b2)\n",
    "  vp = tf.nn.relu(tf.matmul(vp, W3) + b3)\n",
    "  lgts = tf.matmul(vp, W4) + b4\n",
    "  valid_prediction = tf.nn.softmax(lgts)\n",
    "\n",
    "  vp = tf.nn.relu(tf.matmul(tf_test_dataset, W1) + b1)\n",
    "  vp = tf.nn.relu(tf.matmul(vp, W2) + b2)\n",
    "  vp = tf.nn.relu(tf.matmul(vp, W3) + b3)\n",
    "  lgts = tf.matmul(vp, W4) + b4\n",
    "  test_prediction = tf.nn.softmax(lgts)\n",
    "\n",
    "#   test_prediction = mysoft(tf_test_dataset, wts)\n",
    "#     tf.nn.softmax(tf.matmul(tf_test_dataset, weights) + biases)"
   ]
  },
  {
   "cell_type": "code",
   "execution_count": 19,
   "metadata": {
    "collapsed": false
   },
   "outputs": [
    {
     "name": "stdout",
     "output_type": "stream",
     "text": [
      "Initialized\n",
      "<class 'tensorflow.python.framework.ops.Tensor'>\n",
      "0.2\n",
      "Minibatch loss at step 0: 2.513685\n",
      "Minibatch accuracy: 10.2%\n",
      "Validation accuracy: 24.9%\n",
      "Test accuracy: 89.4%\n"
     ]
    }
   ],
   "source": [
    "# run it-4\n",
    "# 95.5% with L2\n",
    "# 94.6% with 0.5 dropout on first two layers\n",
    "num_steps = 201\n",
    "\n",
    "\n",
    "with tf.Session(graph=graph) as session:\n",
    "  tf.global_variables_initializer().run()\n",
    "  print(\"Initialized\")\n",
    "  print(type(keep_prob))\n",
    "  for step in range(num_steps):\n",
    "    # Pick an offset within the training data, which has been randomized.\n",
    "    # Note: we could use better randomization across epochs.\n",
    "    offset = (step * batch_size) % (train_labels.shape[0] - batch_size)\n",
    "    # Generate a minibatch.\n",
    "    batch_data = train_dataset[offset:(offset + batch_size), :]\n",
    "    batch_labels = train_labels[offset:(offset + batch_size), :]\n",
    "    # Prepare a dictionary telling the session where to feed the minibatch.\n",
    "    # The key of the dictionary is the placeholder node of the graph to be fed,\n",
    "    # and the value is the numpy array to feed to it.\n",
    "    feed_dict = {tf_train_dataset : batch_data, tf_train_labels : batch_labels, keep_prob : 0.5}\n",
    "    _, l, predictions = session.run(\n",
    "      [optimizer, loss, train_prediction], feed_dict=feed_dict)\n",
    "    if (step % 500 == 0):\n",
    "      print(learning_rate.eval())\n",
    "      print(\"Minibatch loss at step %d: %f\" % (step, l))\n",
    "      print(\"Minibatch accuracy: %.1f%%\" % accuracy(predictions, batch_labels))\n",
    "      print(\"Validation accuracy: %.1f%%\" % accuracy(\n",
    "        valid_prediction.eval(), valid_labels))\n",
    "  print(\"Test accuracy: %.1f%%\" % accuracy(test_prediction.eval(), test_labels))"
   ]
  },
  {
   "cell_type": "code",
   "execution_count": null,
   "metadata": {
    "collapsed": true
   },
   "outputs": [],
   "source": []
  }
 ],
 "metadata": {
  "colab": {
   "default_view": {},
   "name": "3_regularization.ipynb",
   "provenance": [],
   "version": "0.3.2",
   "views": {}
  },
  "kernelspec": {
   "display_name": "Python 3",
   "language": "python",
   "name": "python3"
  },
  "language_info": {
   "codemirror_mode": {
    "name": "ipython",
    "version": 3
   },
   "file_extension": ".py",
   "mimetype": "text/x-python",
   "name": "python",
   "nbconvert_exporter": "python",
   "pygments_lexer": "ipython3",
   "version": "3.6.0"
  }
 },
 "nbformat": 4,
 "nbformat_minor": 0
}
